{
 "cells": [
  {
   "attachments": {},
   "cell_type": "markdown",
   "id": "26a39251-cf46-4917-b8b4-89ae0ad5a060",
   "metadata": {},
   "source": [
    "# Get Voices"
   ]
  },
  {
   "cell_type": "markdown",
   "id": "web-setup",
   "metadata": {},
   "source": [
    "# Web Interface Setup"
   ]
  },
  {
   "cell_type": "code",
   "execution_count": null,
   "id": "flask-setup",
   "metadata": {},
   "outputs": [
    {
     "name": "stdout",
     "output_type": "stream",
     "text": [
      " * Serving Flask app '__main__'\n",
      " * Debug mode: off\n"
     ]
    },
    {
     "name": "stderr",
     "output_type": "stream",
     "text": [
      "\u001b[31m\u001b[1mWARNING: This is a development server. Do not use it in a production deployment. Use a production WSGI server instead.\u001b[0m\n",
      " * Running on all addresses (0.0.0.0)\n",
      " * Running on http://127.0.0.1:5000\n",
      " * Running on http://172.24.167.61:5000\n",
      "\u001b[33mPress CTRL+C to quit\u001b[0m\n",
      "\u001b[33mPress CTRL+C to quit\u001b[0m\n"
     ]
    }
   ],
   "source": [
    "from flask import Flask, render_template\n",
    "from flask_sock import Sock\n",
    "import numpy as np\n",
    "import os\n",
    "from datetime import datetime\n",
    "\n",
    "app = Flask(__name__)\n",
    "sock = Sock(app)\n",
    "\n",
    "@app.route('/')\n",
    "def index():\n",
    "    return render_template('index.html')\n",
    "\n",
    "@sock.route('/audio')\n",
    "def audio(ws):\n",
    "    while True:\n",
    "        audio_data = ws.receive()\n",
    "        if len(audio_data) % 4 == 0:  # Ensure buffer size is a multiple of element size\n",
    "            audio_array = np.frombuffer(audio_data, dtype=np.float32)\n",
    "            print('Received audio data:', audio_array)\n",
    "            save_audio_locally(audio_data)\n",
    "            ws.send(audio_data)  # Send the audio data back to the client\n",
    "        else:\n",
    "            print('Received incomplete audio data')\n",
    "\n",
    "def save_audio_locally(audio_data):\n",
    "    timestamp = datetime.now().strftime('%Y%m%d_%H%M%S')\n",
    "    filename = f'received_audio_{timestamp}.wav'\n",
    "    with open(filename, 'wb') as f:\n",
    "        f.write(audio_data)\n",
    "\n",
    "if __name__ == '__main__':\n",
    "    app.run(host='0.0.0.0', port=5000)"
   ]
  },
  {
   "cell_type": "code",
   "execution_count": null,
   "id": "2a145827",
   "metadata": {},
   "outputs": [],
   "source": []
  }
 ],
 "metadata": {
  "kernelspec": {
   "display_name": "Python 3 (ipykernel)",
   "language": "python",
   "name": "python3"
  },
  "language_info": {
   "codemirror_mode": {
    "name": "ipython",
    "version": 3
   },
   "file_extension": ".py",
   "mimetype": "text/x-python",
   "name": "python",
   "nbconvert_exporter": "python",
   "pygments_lexer": "ipython3",
   "version": "3.10.12"
  }
 },
 "nbformat": 4,
 "nbformat_minor": 5
}
